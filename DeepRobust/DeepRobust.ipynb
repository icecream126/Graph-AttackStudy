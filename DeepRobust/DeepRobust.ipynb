{
  "nbformat": 4,
  "nbformat_minor": 0,
  "metadata": {
    "colab": {
      "name": "DeepRobust",
      "provenance": []
    },
    "kernelspec": {
      "name": "python3",
      "display_name": "Python 3"
    },
    "language_info": {
      "name": "python"
    }
  },
  "cells": [
    {
      "cell_type": "code",
      "metadata": {
        "colab": {
          "base_uri": "https://localhost:8080/"
        },
        "id": "0uESzSwEGLSN",
        "outputId": "60881467-2784-4cfd-b603-b95794d5ae0b"
      },
      "source": [
        "!pip install deeprobust"
      ],
      "execution_count": 1,
      "outputs": [
        {
          "output_type": "stream",
          "text": [
            "Collecting deeprobust\n",
            "\u001b[?25l  Downloading https://files.pythonhosted.org/packages/28/d4/729e089109e33e917e973f87f7169e5f08889fd25fb65f8eca246fc75d83/deeprobust-0.2.2-py3-none-any.whl (184kB)\n",
            "\u001b[K     |████████████████████████████████| 184kB 7.9MB/s \n",
            "\u001b[?25hCollecting gensim<4.0,>=3.8\n",
            "\u001b[?25l  Downloading https://files.pythonhosted.org/packages/5c/4e/afe2315e08a38967f8a3036bbe7e38b428e9b7a90e823a83d0d49df1adf5/gensim-3.8.3-cp37-cp37m-manylinux1_x86_64.whl (24.2MB)\n",
            "\u001b[K     |████████████████████████████████| 24.2MB 106kB/s \n",
            "\u001b[?25hRequirement already satisfied: scipy>=1.3.1 in /usr/local/lib/python3.7/dist-packages (from deeprobust) (1.4.1)\n",
            "Collecting texttable>=1.6.2\n",
            "  Downloading https://files.pythonhosted.org/packages/06/f5/46201c428aebe0eecfa83df66bf3e6caa29659dbac5a56ddfd83cae0d4a4/texttable-1.6.3-py2.py3-none-any.whl\n",
            "Requirement already satisfied: networkx>=2.4 in /usr/local/lib/python3.7/dist-packages (from deeprobust) (2.5.1)\n",
            "Requirement already satisfied: numpy>=1.17.1 in /usr/local/lib/python3.7/dist-packages (from deeprobust) (1.19.5)\n",
            "Requirement already satisfied: scikit-learn>=0.22.1 in /usr/local/lib/python3.7/dist-packages (from deeprobust) (0.22.2.post1)\n",
            "Requirement already satisfied: tqdm>=3.0 in /usr/local/lib/python3.7/dist-packages (from deeprobust) (4.41.1)\n",
            "Requirement already satisfied: Pillow>=7.0.0 in /usr/local/lib/python3.7/dist-packages (from deeprobust) (7.1.2)\n",
            "Requirement already satisfied: torch>=1.2.0 in /usr/local/lib/python3.7/dist-packages (from deeprobust) (1.9.0+cu102)\n",
            "Requirement already satisfied: torchvision>=0.4.0 in /usr/local/lib/python3.7/dist-packages (from deeprobust) (0.10.0+cu102)\n",
            "Requirement already satisfied: matplotlib>=3.1.1 in /usr/local/lib/python3.7/dist-packages (from deeprobust) (3.2.2)\n",
            "Requirement already satisfied: scikit-image>=0.0 in /usr/local/lib/python3.7/dist-packages (from deeprobust) (0.16.2)\n",
            "Collecting tensorboardX>=2.0\n",
            "\u001b[?25l  Downloading https://files.pythonhosted.org/packages/07/84/46421bd3e0e89a92682b1a38b40efc22dafb6d8e3d947e4ceefd4a5fabc7/tensorboardX-2.2-py2.py3-none-any.whl (120kB)\n",
            "\u001b[K     |████████████████████████████████| 122kB 48.8MB/s \n",
            "\u001b[?25hRequirement already satisfied: numba>=0.48.0 in /usr/local/lib/python3.7/dist-packages (from deeprobust) (0.51.2)\n",
            "Requirement already satisfied: smart-open>=1.8.1 in /usr/local/lib/python3.7/dist-packages (from gensim<4.0,>=3.8->deeprobust) (5.1.0)\n",
            "Requirement already satisfied: six>=1.5.0 in /usr/local/lib/python3.7/dist-packages (from gensim<4.0,>=3.8->deeprobust) (1.15.0)\n",
            "Requirement already satisfied: decorator<5,>=4.3 in /usr/local/lib/python3.7/dist-packages (from networkx>=2.4->deeprobust) (4.4.2)\n",
            "Requirement already satisfied: joblib>=0.11 in /usr/local/lib/python3.7/dist-packages (from scikit-learn>=0.22.1->deeprobust) (1.0.1)\n",
            "Requirement already satisfied: typing-extensions in /usr/local/lib/python3.7/dist-packages (from torch>=1.2.0->deeprobust) (3.7.4.3)\n",
            "Requirement already satisfied: kiwisolver>=1.0.1 in /usr/local/lib/python3.7/dist-packages (from matplotlib>=3.1.1->deeprobust) (1.3.1)\n",
            "Requirement already satisfied: cycler>=0.10 in /usr/local/lib/python3.7/dist-packages (from matplotlib>=3.1.1->deeprobust) (0.10.0)\n",
            "Requirement already satisfied: pyparsing!=2.0.4,!=2.1.2,!=2.1.6,>=2.0.1 in /usr/local/lib/python3.7/dist-packages (from matplotlib>=3.1.1->deeprobust) (2.4.7)\n",
            "Requirement already satisfied: python-dateutil>=2.1 in /usr/local/lib/python3.7/dist-packages (from matplotlib>=3.1.1->deeprobust) (2.8.1)\n",
            "Requirement already satisfied: imageio>=2.3.0 in /usr/local/lib/python3.7/dist-packages (from scikit-image>=0.0->deeprobust) (2.4.1)\n",
            "Requirement already satisfied: PyWavelets>=0.4.0 in /usr/local/lib/python3.7/dist-packages (from scikit-image>=0.0->deeprobust) (1.1.1)\n",
            "Requirement already satisfied: protobuf>=3.8.0 in /usr/local/lib/python3.7/dist-packages (from tensorboardX>=2.0->deeprobust) (3.12.4)\n",
            "Requirement already satisfied: llvmlite<0.35,>=0.34.0.dev0 in /usr/local/lib/python3.7/dist-packages (from numba>=0.48.0->deeprobust) (0.34.0)\n",
            "Requirement already satisfied: setuptools in /usr/local/lib/python3.7/dist-packages (from numba>=0.48.0->deeprobust) (57.0.0)\n",
            "Installing collected packages: gensim, texttable, tensorboardX, deeprobust\n",
            "  Found existing installation: gensim 3.6.0\n",
            "    Uninstalling gensim-3.6.0:\n",
            "      Successfully uninstalled gensim-3.6.0\n",
            "Successfully installed deeprobust-0.2.2 gensim-3.8.3 tensorboardX-2.2 texttable-1.6.3\n"
          ],
          "name": "stdout"
        }
      ]
    },
    {
      "cell_type": "markdown",
      "metadata": {
        "id": "BA8HEEs_HjQS"
      },
      "source": [
        "# Global Attack for Node classification"
      ]
    },
    {
      "cell_type": "code",
      "metadata": {
        "colab": {
          "base_uri": "https://localhost:8080/"
        },
        "id": "FGAv4dQMGdwY",
        "outputId": "2fe03b87-cfb9-47fe-c427-6539ed312c1e"
      },
      "source": [
        "import numpy as np\n",
        "from deeprobust.graph.data import Dataset\n",
        "from deeprobust.graph.defense import GCN\n",
        "from deeprobust.graph.global_attack import Metattack\n",
        "data = Dataset(root='/tmp/', name='cora')\n",
        "adj, features, labels = data.adj, data.features, data.labels\n",
        "idx_train, idx_val, idx_test = data.idx_train, data.idx_val, data.idx_test\n",
        "idx_unlabeled = np.union1d(idx_val, idx_test)\n",
        "idx_unlabeled = np.union1d(idx_val, idx_test)\n",
        "# Setup Surrogate model\n",
        "surrogate = GCN(nfeat=features.shape[1], nclass=labels.max().item()+1,\n",
        "                nhid=16, dropout=0, with_relu=False, with_bias=False, device='cpu').to('cpu')\n",
        "surrogate.fit(features, adj, labels, idx_train, idx_val, patience=30)\n",
        "# Setup Attack Model\n",
        "model = Metattack(surrogate, nnodes=adj.shape[0], feature_shape=features.shape,\n",
        "        attack_structure=True, attack_features=False, device='cpu', lambda_=0).to('cpu')\n",
        "# Attack\n",
        "model.attack(features, adj, labels, idx_train, idx_unlabeled, n_perturbations=10, ll_constraint=False)\n",
        "modified_adj = model.modified_adj # modified_adj is a torch.tensor"
      ],
      "execution_count": 3,
      "outputs": [
        {
          "output_type": "stream",
          "text": [
            "No module named 'torch_geometric'\n",
            "Loading cora dataset...\n",
            "Selecting 1 largest connected components\n"
          ],
          "name": "stdout"
        },
        {
          "output_type": "stream",
          "text": [
            "/usr/local/lib/python3.7/dist-packages/deeprobust/graph/defense/__init__.py:16: UserWarning: Please install pytorch geometric if you would like to use the datasets from pytorch geometric. See details in https://pytorch-geometric.readthedocs.io/en/latest/notes/installation.html\n",
            "  \"geometric. See details in https://pytorch-geom\" +\n",
            "Perturbing graph:   0%|          | 0/10 [00:00<?, ?it/s]"
          ],
          "name": "stderr"
        },
        {
          "output_type": "stream",
          "text": [
            "GCN loss on unlabled data: 0.5084404945373535\n",
            "GCN acc on unlabled data: 0.8301296379079124\n",
            "attack loss: 0.3048456311225891\n"
          ],
          "name": "stdout"
        },
        {
          "output_type": "stream",
          "text": [
            "/usr/local/lib/python3.7/dist-packages/torch/_tensor.py:575: UserWarning: floor_divide is deprecated, and will be removed in a future version of pytorch. It currently rounds toward 0 (like the 'trunc' function NOT 'floor'). This results in incorrect rounding for negative values.\n",
            "To keep the current behavior, use torch.div(a, b, rounding_mode='trunc'), or for actual floor division, use torch.div(a, b, rounding_mode='floor'). (Triggered internally at  /pytorch/aten/src/ATen/native/BinaryOps.cpp:467.)\n",
            "  return torch.floor_divide(self, other)\n",
            "\rPerturbing graph:  10%|█         | 1/10 [00:15<02:22, 15.87s/it]"
          ],
          "name": "stderr"
        },
        {
          "output_type": "stream",
          "text": [
            "GCN loss on unlabled data: 0.5220595598220825\n",
            "GCN acc on unlabled data: 0.8421993741618239\n",
            "attack loss: 0.3358333706855774\n"
          ],
          "name": "stdout"
        },
        {
          "output_type": "stream",
          "text": [
            "\rPerturbing graph:  20%|██        | 2/10 [00:31<02:06, 15.79s/it]"
          ],
          "name": "stderr"
        },
        {
          "output_type": "stream",
          "text": [
            "GCN loss on unlabled data: 0.5075889825820923\n",
            "GCN acc on unlabled data: 0.843540455967814\n",
            "attack loss: 0.31400004029273987\n"
          ],
          "name": "stdout"
        },
        {
          "output_type": "stream",
          "text": [
            "\rPerturbing graph:  30%|███       | 3/10 [00:47<01:50, 15.77s/it]"
          ],
          "name": "stderr"
        },
        {
          "output_type": "stream",
          "text": [
            "GCN loss on unlabled data: 0.5387433171272278\n",
            "GCN acc on unlabled data: 0.8301296379079124\n",
            "attack loss: 0.32374322414398193\n"
          ],
          "name": "stdout"
        },
        {
          "output_type": "stream",
          "text": [
            "\rPerturbing graph:  40%|████      | 4/10 [01:02<01:34, 15.77s/it]"
          ],
          "name": "stderr"
        },
        {
          "output_type": "stream",
          "text": [
            "GCN loss on unlabled data: 0.5182848572731018\n",
            "GCN acc on unlabled data: 0.8408582923558338\n",
            "attack loss: 0.3399897515773773\n"
          ],
          "name": "stdout"
        },
        {
          "output_type": "stream",
          "text": [
            "\rPerturbing graph:  50%|█████     | 5/10 [01:18<01:18, 15.73s/it]"
          ],
          "name": "stderr"
        },
        {
          "output_type": "stream",
          "text": [
            "GCN loss on unlabled data: 0.520474910736084\n",
            "GCN acc on unlabled data: 0.843540455967814\n",
            "attack loss: 0.3399098515510559\n"
          ],
          "name": "stdout"
        },
        {
          "output_type": "stream",
          "text": [
            "\rPerturbing graph:  60%|██████    | 6/10 [01:34<01:02, 15.67s/it]"
          ],
          "name": "stderr"
        },
        {
          "output_type": "stream",
          "text": [
            "GCN loss on unlabled data: 0.5293036699295044\n",
            "GCN acc on unlabled data: 0.8287885561019223\n",
            "attack loss: 0.33262398838996887\n"
          ],
          "name": "stdout"
        },
        {
          "output_type": "stream",
          "text": [
            "\rPerturbing graph:  70%|███████   | 7/10 [01:49<00:47, 15.72s/it]"
          ],
          "name": "stderr"
        },
        {
          "output_type": "stream",
          "text": [
            "GCN loss on unlabled data: 0.5347529649734497\n",
            "GCN acc on unlabled data: 0.8390701832811801\n",
            "attack loss: 0.34894293546676636\n"
          ],
          "name": "stdout"
        },
        {
          "output_type": "stream",
          "text": [
            "\rPerturbing graph:  80%|████████  | 8/10 [02:05<00:31, 15.67s/it]"
          ],
          "name": "stderr"
        },
        {
          "output_type": "stream",
          "text": [
            "GCN loss on unlabled data: 0.540736973285675\n",
            "GCN acc on unlabled data: 0.8314707197139025\n",
            "attack loss: 0.34770819544792175\n"
          ],
          "name": "stdout"
        },
        {
          "output_type": "stream",
          "text": [
            "\rPerturbing graph:  90%|█████████ | 9/10 [02:21<00:15, 15.68s/it]"
          ],
          "name": "stderr"
        },
        {
          "output_type": "stream",
          "text": [
            "GCN loss on unlabled data: 0.5553375482559204\n",
            "GCN acc on unlabled data: 0.8265534197586053\n",
            "attack loss: 0.3598272204399109\n"
          ],
          "name": "stdout"
        },
        {
          "output_type": "stream",
          "text": [
            "Perturbing graph: 100%|██████████| 10/10 [02:36<00:00, 15.70s/it]\n"
          ],
          "name": "stderr"
        }
      ]
    },
    {
      "cell_type": "markdown",
      "metadata": {
        "id": "veOxWFDeHpAL"
      },
      "source": [
        "# Targeted Attack for Node Classification"
      ]
    },
    {
      "cell_type": "code",
      "metadata": {
        "colab": {
          "base_uri": "https://localhost:8080/"
        },
        "id": "kV_AxrSUHtAI",
        "outputId": "46628420-2a59-42c0-9e53-fa90299507c9"
      },
      "source": [
        "from deeprobust.graph.data import Dataset\n",
        "from deeprobust.graph.defense import GCN\n",
        "from deeprobust.graph.targeted_attack import Nettack\n",
        "data = Dataset(root='/tmp/', name='cora')\n",
        "adj, features, labels = data.adj, data.features, data.labels\n",
        "idx_train, idx_val, idx_test = data.idx_train, data.idx_val, data.idx_test\n",
        "# Setup Surrogate model\n",
        "surrogate = GCN(nfeat=features.shape[1], nclass=labels.max().item()+1,\n",
        "                nhid=16, dropout=0, with_relu=False, with_bias=False, device='cpu').to('cpu')\n",
        "surrogate.fit(features, adj, labels, idx_train, idx_val, patience=30)\n",
        "# Setup Attack Model\n",
        "target_node = 0\n",
        "model = Nettack(surrogate, nnodes=adj.shape[0], attack_structure=True, attack_features=True, device='cpu').to('cpu')\n",
        "# Attack\n",
        "model.attack(features, adj, labels, target_node, n_perturbations=5)\n",
        "modified_adj = model.modified_adj # scipy sparse matrix\n",
        "modified_features = model.modified_features # scipy sparse matrix"
      ],
      "execution_count": 4,
      "outputs": [
        {
          "output_type": "stream",
          "text": [
            "Loading cora dataset...\n",
            "Selecting 1 largest connected components\n",
            "##### Starting attack #####\n",
            "##### Attack node with ID 0 using structure and feature perturbations #####\n",
            "##### Attacking the node directly #####\n",
            "##### Performing 5 perturbations #####\n",
            "##### ...1/5 perturbations ... #####\n"
          ],
          "name": "stdout"
        },
        {
          "output_type": "stream",
          "text": [
            "/usr/local/lib/python3.7/dist-packages/numba/core/ir_utils.py:2031: NumbaPendingDeprecationWarning: \n",
            "Encountered the use of a type that is scheduled for deprecation: type 'reflected set' found for argument 'edges_set' of function 'compute_new_a_hat_uv'.\n",
            "\n",
            "For more information visit https://numba.pydata.org/numba-doc/latest/reference/deprecation.html#deprecation-of-reflection-for-list-and-set-types\n",
            "\n",
            "File \"../usr/local/lib/python3.7/dist-packages/deeprobust/graph/targeted_attack/nettack.py\", line 501:\n",
            "@jit(nopython=True)\n",
            "def compute_new_a_hat_uv(edge_ixs, node_nb_ixs, edges_set, twohop_ixs, values_before, degs, potential_edges, u):\n",
            "^\n",
            "\n",
            "  warnings.warn(NumbaPendingDeprecationWarning(msg, loc=loc))\n"
          ],
          "name": "stderr"
        },
        {
          "output_type": "stream",
          "text": [
            "Edge perturbation: [   0 1664]\n",
            "##### ...2/5 perturbations ... #####\n",
            "Edge perturbation: [   0 1301]\n",
            "##### ...3/5 perturbations ... #####\n",
            "Edge perturbation: [   0 1084]\n",
            "##### ...4/5 perturbations ... #####\n",
            "Edge perturbation: [   0 1193]\n",
            "##### ...5/5 perturbations ... #####\n",
            "Edge perturbation: [   0 1046]\n"
          ],
          "name": "stdout"
        }
      ]
    },
    {
      "cell_type": "markdown",
      "metadata": {
        "id": "nUTPDXIkIKM4"
      },
      "source": [
        "## 1. Load pre-attacked graph data"
      ]
    },
    {
      "cell_type": "code",
      "metadata": {
        "colab": {
          "base_uri": "https://localhost:8080/"
        },
        "id": "iw8aQSWNHvBj",
        "outputId": "3ef927c4-2e7c-4b0d-fe6a-86ac0ca1d7c5"
      },
      "source": [
        "from deeprobust.graph.data import Dataset, PrePtbDataset\n",
        "# load the prognn splits by using setting='prognn'\n",
        "# because the attacked graphs are generated under prognn splits\n",
        "data = Dataset(root='/tmp/', name='cora', setting='prognn')\n",
        "\n",
        "adj, features, labels = data.adj, data.features, data.labels\n",
        "idx_train, idx_val, idx_test = data.idx_train, data.idx_val, data.idx_test\n",
        "# Load meta attacked data\n",
        "perturbed_data = PrePtbDataset(root='/tmp/',\n",
        "                    name='cora',\n",
        "                    attack_method='meta',\n",
        "                    ptb_rate=0.05)\n",
        "perturbed_adj = perturbed_data.adj"
      ],
      "execution_count": 5,
      "outputs": [
        {
          "output_type": "stream",
          "text": [
            "Loading cora dataset...\n",
            "Selecting 1 largest connected components\n",
            "Dowloading from https://raw.githubusercontent.com/ChandlerBang/Pro-GNN/master/splits/cora_prognn_splits.json to /tmp/cora_prognn_splits.json\n",
            "Dowloading from https://raw.githubusercontent.com/ChandlerBang/Pro-GNN/master/meta/cora_meta_adj_0.05.npz to /tmp/cora_meta_adj_0.05.npz\n",
            "Loading cora dataset perturbed by 0.05 meta...\n"
          ],
          "name": "stdout"
        },
        {
          "output_type": "stream",
          "text": [
            "/usr/local/lib/python3.7/dist-packages/deeprobust/graph/data/attacked_data.py:135: UserWarning: The pre-attacked graph is perturbed under the data splits provided by ProGNN. So if you are going to verify the attacking performance, you should use the same data splits  (setting='prognn').\n",
            "  warnings.warn(\"The pre-attacked graph is perturbed under the data splits provided by ProGNN. So if you are going to verify the attacking performance, you should use the same data splits  (setting='prognn').\")\n"
          ],
          "name": "stderr"
        }
      ]
    },
    {
      "cell_type": "markdown",
      "metadata": {
        "id": "Of2KDgpDIVNy"
      },
      "source": [
        "## 2. Train victim model on clean/poisoned graph"
      ]
    },
    {
      "cell_type": "code",
      "metadata": {
        "colab": {
          "base_uri": "https://localhost:8080/"
        },
        "id": "AhVhyMJoITso",
        "outputId": "00591263-bbd8-4252-dfb7-71f9ca02c34b"
      },
      "source": [
        "from deeprobust.graph.defense import GCN\n",
        "gcn = GCN(nfeat=features.shape[1],\n",
        "    nhid=16,\n",
        "    nclass=labels.max().item() + 1,\n",
        "    dropout=0.5, device='cpu')\n",
        "gcn = gcn.to('cpu')\n",
        "gcn.fit(features, adj, labels, idx_train, idx_val) # train on clean graph with earlystopping\n",
        "gcn.test(idx_test)\n",
        "\n",
        "gcn.fit(features, perturbed_adj, labels, idx_train, idx_val) # train on poisoned graph\n",
        "gcn.test(idx_test)"
      ],
      "execution_count": 6,
      "outputs": [
        {
          "output_type": "stream",
          "text": [
            "Test set results: loss= 0.5641 accuracy= 0.8290\n",
            "Test set results: loss= 0.7253 accuracy= 0.7762\n"
          ],
          "name": "stdout"
        },
        {
          "output_type": "execute_result",
          "data": {
            "text/plain": [
              "0.7761569416498993"
            ]
          },
          "metadata": {
            "tags": []
          },
          "execution_count": 6
        }
      ]
    },
    {
      "cell_type": "markdown",
      "metadata": {
        "id": "8ndsd_XUIiu1"
      },
      "source": [
        "## 3. Train defense models"
      ]
    },
    {
      "cell_type": "code",
      "metadata": {
        "colab": {
          "base_uri": "https://localhost:8080/"
        },
        "id": "uaoXH_pTIcoq",
        "outputId": "74911a4e-6fa4-4ec7-de28-41b61c414475"
      },
      "source": [
        "from deeprobust.graph.defense import GCNJaccard\n",
        "model = GCNJaccard(nfeat=features.shape[1],\n",
        "          nhid=16,\n",
        "          nclass=labels.max().item() + 1,\n",
        "          dropout=0.5, device='cpu').to('cpu')\n",
        "model.fit(features, perturbed_adj, labels, idx_train, idx_val, threshold=0.03)\n",
        "model.test(idx_test)"
      ],
      "execution_count": 7,
      "outputs": [
        {
          "output_type": "stream",
          "text": [
            "removed 1191 edges in the original graph\n",
            "=== training gcn model ===\n",
            "Epoch 0, training loss: 1.907806634902954\n",
            "Epoch 10, training loss: 1.1862224340438843\n",
            "Epoch 20, training loss: 0.5860435366630554\n",
            "Epoch 30, training loss: 0.3268839716911316\n",
            "Epoch 40, training loss: 0.18484485149383545\n",
            "Epoch 50, training loss: 0.14373797178268433\n",
            "Epoch 60, training loss: 0.13396364450454712\n",
            "Epoch 70, training loss: 0.10623839497566223\n",
            "Epoch 80, training loss: 0.08720427751541138\n",
            "Epoch 90, training loss: 0.06903304904699326\n",
            "Epoch 100, training loss: 0.09412094205617905\n",
            "Epoch 110, training loss: 0.0924135223031044\n",
            "Epoch 120, training loss: 0.08030423521995544\n",
            "Epoch 130, training loss: 0.07552876323461533\n",
            "Epoch 140, training loss: 0.061487339437007904\n",
            "Epoch 150, training loss: 0.06574063003063202\n",
            "Epoch 160, training loss: 0.06646846979856491\n",
            "Epoch 170, training loss: 0.06772365421056747\n",
            "Epoch 180, training loss: 0.07207415997982025\n",
            "Epoch 190, training loss: 0.06294155865907669\n",
            "=== picking the best model according to the performance on validation ===\n",
            "Test set results: loss= 0.6433 accuracy= 0.8003\n"
          ],
          "name": "stdout"
        },
        {
          "output_type": "execute_result",
          "data": {
            "text/plain": [
              "0.8003018108651911"
            ]
          },
          "metadata": {
            "tags": []
          },
          "execution_count": 7
        }
      ]
    },
    {
      "cell_type": "markdown",
      "metadata": {
        "id": "FoX6x16fIvxR"
      },
      "source": [
        "## Node embedding attack"
      ]
    },
    {
      "cell_type": "code",
      "metadata": {
        "colab": {
          "base_uri": "https://localhost:8080/"
        },
        "id": "ucDOh1nsIk6L",
        "outputId": "096cf7cc-6e65-40e9-e253-0992cf3d071d"
      },
      "source": [
        "from deeprobust.graph.data import Dataset\n",
        "from deeprobust.graph.global_attack import NodeEmbeddingAttack\n",
        "data = Dataset(root='/tmp/', name='cora_ml', seed=15)\n",
        "adj, features, labels = data.adj, data.features, data.labels\n",
        "model = NodeEmbeddingAttack()\n",
        "model.attack(adj, attack_type=\"remove\")\n",
        "modified_adj = model.modified_adj\n",
        "model.attack(adj, attack_type=\"remove\", min_span_tree=True)\n",
        "modified_adj = model.modified_adj\n",
        "model.attack(adj, attack_type=\"add\", n_candidates=10000)\n",
        "modified_adj = model.modified_adj\n",
        "model.attack(adj, attack_type=\"add_by_remove\", n_candidates=10000)\n",
        "modified_adj = model.modified_adj"
      ],
      "execution_count": 9,
      "outputs": [
        {
          "output_type": "stream",
          "text": [
            "Loading cora_ml dataset...\n",
            "Downloading from https://raw.githubusercontent.com/danielzuegner/gnn-meta-attack/master/data/cora_ml.npz to /tmp/cora_ml.npz\n",
            "Done!\n",
            "Selecting 1 largest connected components\n"
          ],
          "name": "stdout"
        }
      ]
    },
    {
      "cell_type": "markdown",
      "metadata": {
        "id": "5sphiD1SJOHO"
      },
      "source": [
        "## Node embedding victim models"
      ]
    },
    {
      "cell_type": "code",
      "metadata": {
        "colab": {
          "base_uri": "https://localhost:8080/"
        },
        "id": "Fpb_s8CJIxzz",
        "outputId": "addd2a79-9216-4abf-f067-b1ea3eb49582"
      },
      "source": [
        "from deeprobust.graph.data import Dataset\n",
        "from deeprobust.graph.defense import DeepWalk\n",
        "from deeprobust.graph.global_attack import NodeEmbeddingAttack\n",
        "import numpy as np\n",
        "\n",
        "dataset_str = 'cora_ml'\n",
        "data = Dataset(root='/tmp/', name=dataset_str, seed=15)\n",
        "adj, features, labels = data.adj, data.features, data.labels\n",
        "idx_train, idx_val, idx_test = data.idx_train, data.idx_val, data.idx_test\n",
        "\n",
        "print(\"Test DeepWalk on clean graph\")\n",
        "model = DeepWalk(type=\"skipgram\")\n",
        "model.fit(adj)\n",
        "print(model.embedding)"
      ],
      "execution_count": 10,
      "outputs": [
        {
          "output_type": "stream",
          "text": [
            "Loading cora_ml dataset...\n",
            "Selecting 1 largest connected components\n",
            "Test DeepWalk on clean graph\n"
          ],
          "name": "stdout"
        },
        {
          "output_type": "stream",
          "text": [
            "/usr/local/lib/python3.7/dist-packages/numba/core/typed_passes.py:314: NumbaPerformanceWarning: \n",
            "The keyword argument 'parallel=True' was specified but no transformation for parallel execution was possible.\n",
            "\n",
            "To find out why, try turning on parallel diagnostics, see https://numba.pydata.org/numba-doc/latest/user/parallel.html#diagnostics for help.\n",
            "\n",
            "File \"../usr/local/lib/python3.7/dist-packages/deeprobust/graph/defense/node_embedding.py\", line 332:\n",
            "@numba.jit(nopython=True, parallel=True)\n",
            "def _random_walk(indptr, indices, walk_length, walks_per_node, seed):\n",
            "^\n",
            "\n",
            "  state.func_ir.loc))\n"
          ],
          "name": "stderr"
        },
        {
          "output_type": "stream",
          "text": [
            "[[-0.08024385 -0.8360118  -0.47371867 ... -0.00143743  0.46734792\n",
            "  -0.30357292]\n",
            " [ 0.66303325 -0.21016534 -0.6175517  ... -0.06177273  0.26229024\n",
            "   0.20200323]\n",
            " [ 0.5145694  -0.027938   -0.4842296  ...  0.063301    0.16260335\n",
            "   0.5477671 ]\n",
            " ...\n",
            " [-0.5318782  -0.07631438 -0.51916534 ...  0.11400343  0.44082317\n",
            "   0.22816503]\n",
            " [ 0.05522015 -0.3257659  -0.20640592 ...  0.63721156 -0.23127624\n",
            "  -0.5375081 ]\n",
            " [-0.35134086  0.264934   -1.0428435  ...  0.5431733  -0.2560392\n",
            "  -0.10976694]]\n"
          ],
          "name": "stdout"
        }
      ]
    },
    {
      "cell_type": "code",
      "metadata": {
        "colab": {
          "base_uri": "https://localhost:8080/"
        },
        "id": "zZFg7pAeJQWI",
        "outputId": "47752da7-7b60-44cc-bf78-89ccd5cdea73"
      },
      "source": [
        "print(\"Test DeepWalk on node classification...\")\n",
        "# model.evaluate_node_classification(labels, idx_train, idx_test, lr_params={\"max_iter\": 1000})\n",
        "model.evaluate_node_classification(labels, idx_train, idx_test)\n",
        "print(\"Test DeepWalk on link prediciton...\")\n",
        "model.evaluate_link_prediction(adj, np.array(adj.nonzero()).T)"
      ],
      "execution_count": 11,
      "outputs": [
        {
          "output_type": "stream",
          "text": [
            "Test DeepWalk on node classification...\n",
            "Micro F1: 0.8207295373665481\n",
            "Macro F1: 0.7904730783023871\n",
            "Test DeepWalk on link prediciton...\n",
            "ROC error\n",
            "AUC: 0.0\n",
            "AP: 1.0\n"
          ],
          "name": "stdout"
        },
        {
          "output_type": "execute_result",
          "data": {
            "text/plain": [
              "(array([0.9883237 , 0.96201897, 0.98966515, ..., 0.8913061 , 0.8152671 ,\n",
              "        0.92863464], dtype=float32), 0.0, 1.0)"
            ]
          },
          "metadata": {
            "tags": []
          },
          "execution_count": 11
        }
      ]
    },
    {
      "cell_type": "code",
      "metadata": {
        "colab": {
          "base_uri": "https://localhost:8080/"
        },
        "id": "cHoCt60UJTuI",
        "outputId": "44cf44f5-79c2-4883-f94f-77c9d065871a"
      },
      "source": [
        "# set up the attack model\n",
        "attacker = NodeEmbeddingAttack()\n",
        "attacker.attack(adj, attack_type=\"remove\", n_perturbations=1000)\n",
        "modified_adj = attacker.modified_adj\n",
        "print(\"Test DeepWalk on attacked graph\")\n",
        "model.fit(modified_adj)\n",
        "model.evaluate_node_classification(labels, idx_train, idx_test)"
      ],
      "execution_count": 12,
      "outputs": [
        {
          "output_type": "stream",
          "text": [
            "Test DeepWalk on attacked graph\n",
            "Micro F1: 0.7384341637010676\n",
            "Macro F1: 0.6767085291758695\n"
          ],
          "name": "stdout"
        },
        {
          "output_type": "execute_result",
          "data": {
            "text/plain": [
              "(array([4, 0, 2, ..., 2, 2, 4]), 0.7384341637010676, 0.6767085291758695)"
            ]
          },
          "metadata": {
            "tags": []
          },
          "execution_count": 12
        }
      ]
    }
  ]
}